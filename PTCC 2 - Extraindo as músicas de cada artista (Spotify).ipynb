{
 "cells": [
  {
   "cell_type": "code",
   "execution_count": null,
   "id": "ef6e2c6d",
   "metadata": {},
   "outputs": [],
   "source": [
    "import json\n",
    "import multiprocessing\n",
    "import pandas as pd\n",
    "import pickle\n",
    "import spotipy\n",
    "import time\n",
    "\n",
    "from spotipy.oauth2 import SpotifyClientCredentials"
   ]
  },
  {
   "cell_type": "code",
   "execution_count": null,
   "id": "6b0adf80",
   "metadata": {
    "scrolled": true
   },
   "outputs": [],
   "source": [
    "artists_names = list(pd.read_csv('artists_names.csv')['artist'])\n",
    "print(artists_names[:20])"
   ]
  },
  {
   "cell_type": "code",
   "execution_count": null,
   "id": "ec7fd1b4",
   "metadata": {},
   "outputs": [],
   "source": [
    "# Utilizando o Spotipy\n",
    "\n",
    "CLIENT_ID = 'facc2f06aabf418b8b2503349baec6ca'\n",
    "CLIENT_SECRET = 'e11a217cf7f54674a625122ba3e5c17e'\n",
    "\n",
    "client_credentials = SpotifyClientCredentials(client_id=CLIENT_ID, client_secret=CLIENT_SECRET)\n",
    "spotify = spotipy.Spotify(auth_manager=client_credentials)"
   ]
  },
  {
   "cell_type": "code",
   "execution_count": null,
   "id": "087072c9",
   "metadata": {},
   "outputs": [],
   "source": [
    "# Método para obter todos os tipos de álbuns de um artista dado o ID do artista\n",
    "def get_all_albums_of_artist(artist_id):\n",
    "    artist = spotify.artist(artist_id)    \n",
    "    all_albums = []\n",
    "    album_types = ['album', 'single']\n",
    "\n",
    "    for album_type in album_types:\n",
    "        offset = 0\n",
    "\n",
    "        while True:\n",
    "            albums = spotify.artist_albums(artist_id, album_type=album_type, limit=50, offset=offset)\n",
    "\n",
    "            if not albums['items']:\n",
    "                break\n",
    "\n",
    "            all_albums.extend(albums['items'])\n",
    "            offset += 50\n",
    "\n",
    "    return all_albums\n",
    "\n",
    "def get_all_album_tracks(album_id):\n",
    "    album = spotify.album_tracks(album_id)\n",
    "\n",
    "    return album['items']\n",
    "\n",
    "# Get the artist\n",
    "def get_first_artist(artist_name, json_response):\n",
    "    artists = json_response['artists']['items']\n",
    "    \n",
    "    if not artists:\n",
    "        raise Exception('Artista não encontrado')\n",
    "    \n",
    "    for artist in artists:\n",
    "        if artist['name'].strip().lower() == artist_name.lower():\n",
    "            return artist\n",
    "    \n",
    "    first_artist = artists[0]\n",
    "    return first_artist"
   ]
  },
  {
   "cell_type": "code",
   "execution_count": null,
   "id": "f0f7e388",
   "metadata": {
    "scrolled": true
   },
   "outputs": [],
   "source": [
    "musics = carregar_dicionario('musics.pkl')\n",
    "start_index = carregar_numero_inteiro('musics_start_index.txt')\n",
    "\n",
    "for i in range(start_index, len(artists_names)):\n",
    "    artist_name = artists_names[i]\n",
    "\n",
    "    results = spotify.search(q = artist_name, type = \"artist\", limit=50)\n",
    "    first_artist = get_first_artist(artist_name, results)\n",
    "    artist_id = first_artist['id']\n",
    "\n",
    "    artist_response = spotify.artist(artist_id)\n",
    "    artist_original_name = artist_name\n",
    "    artist_spotify_name = artist_response['name']\n",
    "    artist_genres = artist_response['genres']\n",
    "\n",
    "    albums = get_all_albums_of_artist(artist_id)\n",
    "    for album in albums:\n",
    "        album_id = album['id']\n",
    "        album_name = album['name']\n",
    "        album_release_date = album['release_date']\n",
    "\n",
    "        album_tracks = spotify.album_tracks(album_id)['items']\n",
    "        for track in album_tracks:\n",
    "            track_id = track['id']\n",
    "            track_name = track['name']\n",
    "            track_duration = track['duration_ms']\n",
    "\n",
    "            musics['artist_original_name'].append(artist_original_name)\n",
    "            musics['artist_spotify_name'].append(artist_spotify_name)\n",
    "            musics['artist_id'].append(artist_id)\n",
    "            musics['artist_genres'].append(artist_genres)\n",
    "            musics['track_name'].append(track_name)\n",
    "            musics['track_id'].append(track_id)\n",
    "            musics['track_duration'].append(track_duration)\n",
    "            musics['album_name'].append(album_name)\n",
    "            musics['album_id'].append(album_id)\n",
    "            musics['album_release_date'].append(album_release_date)\n",
    "\n",
    "    salvar_dicionario(musics, 'musics.pkl')\n",
    "    salvar_numero_inteiro(i + 1, 'musics_start_index.txt')\n",
    "    print(i)'''"
   ]
  },
  {
   "cell_type": "code",
   "execution_count": null,
   "id": "96bb69e1",
   "metadata": {},
   "outputs": [],
   "source": [
    "musics = carregar_dicionario('musics.pkl')\n",
    "musics_df = pd.DataFrame.from_dict(musics)\n",
    "musics_df.to_csv('musics.csv', index = False)\n",
    "\n",
    "musics_df"
   ]
  }
 ],
 "metadata": {
  "kernelspec": {
   "display_name": "Python 3 (ipykernel)",
   "language": "python",
   "name": "python3"
  },
  "language_info": {
   "codemirror_mode": {
    "name": "ipython",
    "version": 3
   },
   "file_extension": ".py",
   "mimetype": "text/x-python",
   "name": "python",
   "nbconvert_exporter": "python",
   "pygments_lexer": "ipython3",
   "version": "3.9.13"
  }
 },
 "nbformat": 4,
 "nbformat_minor": 5
}
