{
 "cells": [
  {
   "cell_type": "code",
   "execution_count": 1,
   "id": "8c14cf67",
   "metadata": {},
   "outputs": [],
   "source": [
    "import os\n",
    "import pandas as pd\n",
    "import platform\n",
    "import selenium\n",
    "import pickle\n",
    "\n",
    "from selenium import webdriver\n",
    "from selenium.webdriver.common.by import By\n",
    "from selenium.webdriver.support import expected_conditions as EC\n",
    "from selenium.webdriver.chrome.service import Service\n",
    "from selenium.webdriver.support.wait import WebDriverWait\n",
    "from webdriver_manager.chrome import ChromeDriverManager"
   ]
  },
  {
   "cell_type": "code",
   "execution_count": 2,
   "id": "efaa51cb",
   "metadata": {},
   "outputs": [],
   "source": [
    "operating_system = platform.system()\n",
    "\n",
    "if operating_system == 'Linux':\n",
    "    webdriver_path = os.path.join('chromedriver_linux64', 'chromedriver')\n",
    "elif operating_system == 'Windows':\n",
    "    webdriver_path = os.path.join('chromedriver_win32', 'chromedriver.exe')\n",
    "\n",
    "service = Service(executable_path = webdriver_path)"
   ]
  },
  {
   "cell_type": "code",
   "execution_count": 3,
   "id": "7b0b38a0",
   "metadata": {},
   "outputs": [],
   "source": [
    "driver = webdriver.Chrome(service = service)\n",
    "web_driver_wait = WebDriverWait(driver, 30)"
   ]
  },
  {
   "cell_type": "code",
   "execution_count": null,
   "id": "f43bb512",
   "metadata": {},
   "outputs": [],
   "source": [
    "for i in range (index_inicial, 478):\n",
    "    link = f'https://www.last.fm/tag/brazilian/artists?page={i}'\n",
    "    driver.get(link)\n",
    "    \n",
    "    artist_name_identifier = 'big-artist-list-title'\n",
    "    elements = web_driver_wait.until(EC.presence_of_all_elements_located((By.CLASS_NAME, artist_name_identifier)))\n",
    "    current_artists_names = get_artists_names(elements)\n",
    "    artists_names += current_artists_names\n",
    "    \n",
    "    salvar_lista(artists_names)\n",
    "    salvar_numero(i + 1)"
   ]
  }
 ],
 "metadata": {
  "kernelspec": {
   "display_name": "Python 3 (ipykernel)",
   "language": "python",
   "name": "python3"
  },
  "language_info": {
   "codemirror_mode": {
    "name": "ipython",
    "version": 3
   },
   "file_extension": ".py",
   "mimetype": "text/x-python",
   "name": "python",
   "nbconvert_exporter": "python",
   "pygments_lexer": "ipython3",
   "version": "3.9.13"
  }
 },
 "nbformat": 4,
 "nbformat_minor": 5
}
