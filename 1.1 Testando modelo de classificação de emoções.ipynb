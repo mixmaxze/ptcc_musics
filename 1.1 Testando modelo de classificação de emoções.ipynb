{
 "cells": [
  {
   "cell_type": "code",
   "execution_count": 1,
   "id": "89403884",
   "metadata": {},
   "outputs": [],
   "source": [
    "from transformers import BertTokenizer, BertForSequenceClassification, pipeline\n",
    "from pprint import pprint"
   ]
  },
  {
   "cell_type": "code",
   "execution_count": 2,
   "id": "9ab244c7",
   "metadata": {},
   "outputs": [],
   "source": [
    "model_path = './BERTimbau_base_GoEmotions_portuguese/'\n",
    "\n",
    "model = BertForSequenceClassification.from_pretrained(model_path)\n",
    "tokenizer = BertTokenizer.from_pretrained(model_path)"
   ]
  },
  {
   "cell_type": "code",
   "execution_count": 35,
   "id": "b28dc1cb",
   "metadata": {
    "scrolled": true
   },
   "outputs": [],
   "source": [
    "classifier = pipeline('text-classification', model=model, tokenizer=tokenizer, return_all_scores=True)\n",
    "threshold = 0.3\n",
    "\n",
    "inputs = ['Eu te amo',\n",
    "    'Eu acho que você é uma ótima pessoa',\n",
    "    'Eu odeio aquele cara',\n",
    "    'Ele estava muito triste e eu também',\n",
    "    '']\n",
    "\n",
    "output = classifier(inputs)\n",
    "\n",
    "predictions = []\n",
    "\n",
    "for prediction in output:\n",
    "    prediction.sort(key = lambda x: x['score'], reverse = True)\n",
    "    predictions.append(prediction)"
   ]
  },
  {
   "cell_type": "code",
   "execution_count": 37,
   "id": "7f75047f",
   "metadata": {
    "scrolled": true
   },
   "outputs": [
    {
     "name": "stdout",
     "output_type": "stream",
     "text": [
      "{'label': 'amor', 'score': 0.9788758754730225}\n",
      "{'label': 'admiração', 'score': 0.9857978224754333}\n",
      "{'label': 'raiva', 'score': 0.717617392539978}\n",
      "{'label': 'tristeza', 'score': 0.748661994934082}\n",
      "{'label': 'neutro', 'score': 0.9827151894569397}\n"
     ]
    }
   ],
   "source": [
    "for prediction in predictions:\n",
    "    print(prediction[0])"
   ]
  }
 ],
 "metadata": {
  "kernelspec": {
   "display_name": "Python 3 (ipykernel)",
   "language": "python",
   "name": "python3"
  },
  "language_info": {
   "codemirror_mode": {
    "name": "ipython",
    "version": 3
   },
   "file_extension": ".py",
   "mimetype": "text/x-python",
   "name": "python",
   "nbconvert_exporter": "python",
   "pygments_lexer": "ipython3",
   "version": "3.9.13"
  }
 },
 "nbformat": 4,
 "nbformat_minor": 5
}
