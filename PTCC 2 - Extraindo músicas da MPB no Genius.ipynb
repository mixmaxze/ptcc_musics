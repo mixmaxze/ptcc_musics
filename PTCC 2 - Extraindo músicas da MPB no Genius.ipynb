{
 "cells": [
  {
   "cell_type": "code",
   "execution_count": 10,
   "id": "8c14cf67",
   "metadata": {},
   "outputs": [],
   "source": [
    "import os\n",
    "import pandas as pd\n",
    "import platform\n",
    "import selenium\n",
    "import pickle\n",
    "import time\n",
    "\n",
    "from selenium import webdriver\n",
    "from selenium.webdriver.common.by import By\n",
    "from selenium.webdriver.support import expected_conditions as EC\n",
    "from selenium.webdriver.chrome.service import Service\n",
    "from selenium.webdriver.support.wait import WebDriverWait\n",
    "from webdriver_manager.chrome import ChromeDriverManager"
   ]
  },
  {
   "cell_type": "code",
   "execution_count": 2,
   "id": "efaa51cb",
   "metadata": {},
   "outputs": [],
   "source": [
    "operating_system = platform.system()\n",
    "\n",
    "if operating_system == 'Linux':\n",
    "    webdriver_path = os.path.join('chromedriver_linux64', 'chromedriver')\n",
    "elif operating_system == 'Windows':\n",
    "    webdriver_path = os.path.join('chromedriver_win32', 'chromedriver.exe')\n",
    "\n",
    "service = Service(executable_path = webdriver_path)"
   ]
  },
  {
   "cell_type": "code",
   "execution_count": null,
   "id": "9265c8fe",
   "metadata": {},
   "outputs": [],
   "source": [
    "# class = more button loading"
   ]
  },
  {
   "cell_type": "code",
   "execution_count": 49,
   "id": "f43bb512",
   "metadata": {},
   "outputs": [
    {
     "name": "stdout",
     "output_type": "stream",
     "text": [
      "Página 1, música número 1.\n",
      "Página 1, música número 2.\n",
      "Página 1, música número 3.\n",
      "Página 1, música número 4.\n",
      "Página 1, música número 5.\n",
      "Página 1, música número 6.\n",
      "Página 1, música número 7.\n",
      "Página 1, música número 8.\n",
      "Página 1, música número 9.\n",
      "Página 1, música número 10.\n",
      "Página 1, música número 11.\n",
      "Página 1, música número 12.\n",
      "Página 1, música número 13.\n",
      "Página 1, música número 14.\n",
      "Página 1, música número 15.\n",
      "Página 1, música número 16.\n",
      "Página 1, música número 17.\n",
      "Página 1, música número 18.\n",
      "Página 1, música número 19.\n",
      "Página 1, música número 20.\n",
      "Página 2, música número 1.\n",
      "Página 2, música número 2.\n",
      "Página 2, música número 3.\n",
      "Página 2, música número 4.\n",
      "Página 2, música número 5.\n",
      "Página 2, música número 6.\n",
      "Página 2, música número 7.\n",
      "Página 2, música número 8.\n",
      "Página 2, música número 9.\n",
      "Página 2, música número 10.\n",
      "Página 2, música número 11.\n",
      "Página 2, música número 12.\n",
      "Página 2, música número 13.\n",
      "Página 2, música número 14.\n",
      "Página 2, música número 15.\n",
      "Página 2, música número 16.\n",
      "Página 2, música número 17.\n",
      "Página 2, música número 18.\n",
      "Página 2, música número 19.\n",
      "Página 2, música número 20.\n",
      "Página 3, música número 1.\n",
      "Página 3, música número 2.\n",
      "Página 3, música número 3.\n",
      "Página 3, música número 4.\n"
     ]
    },
    {
     "ename": "NoSuchWindowException",
     "evalue": "Message: no such window: target window already closed\nfrom unknown error: web view not found\n  (Session info: chrome=115.0.5790.110)\nStacktrace:\n#0 0x559ba5cc04e3 <unknown>\n#1 0x559ba59efc76 <unknown>\n#2 0x559ba59c9c6c <unknown>\n#3 0x559ba5a4ff8f <unknown>\n#4 0x559ba5a62d66 <unknown>\n#5 0x559ba5a4ade3 <unknown>\n#6 0x559ba5a202dd <unknown>\n#7 0x559ba5a2134e <unknown>\n#8 0x559ba5c803e4 <unknown>\n#9 0x559ba5c843d7 <unknown>\n#10 0x559ba5c8eb20 <unknown>\n#11 0x559ba5c85023 <unknown>\n#12 0x559ba5c531aa <unknown>\n#13 0x559ba5ca96b8 <unknown>\n#14 0x559ba5ca9847 <unknown>\n#15 0x559ba5cb9243 <unknown>\n#16 0x7fc009418609 start_thread\n",
     "output_type": "error",
     "traceback": [
      "\u001b[0;31m---------------------------------------------------------------------------\u001b[0m",
      "\u001b[0;31mNoSuchWindowException\u001b[0m                     Traceback (most recent call last)",
      "\u001b[0;32m/tmp/ipykernel_4265/2504767699.py\u001b[0m in \u001b[0;36m<module>\u001b[0;34m\u001b[0m\n\u001b[1;32m     29\u001b[0m \u001b[0;34m\u001b[0m\u001b[0m\n\u001b[1;32m     30\u001b[0m         \u001b[0mcontainers_with_lyrics_id\u001b[0m \u001b[0;34m=\u001b[0m \u001b[0;34m'//div[@data-lyrics-container=\"true\"]'\u001b[0m\u001b[0;34m\u001b[0m\u001b[0;34m\u001b[0m\u001b[0m\n\u001b[0;32m---> 31\u001b[0;31m         \u001b[0mcontainers_with_lyrics\u001b[0m \u001b[0;34m=\u001b[0m \u001b[0mweb_driver_wait\u001b[0m\u001b[0;34m.\u001b[0m\u001b[0muntil\u001b[0m\u001b[0;34m(\u001b[0m\u001b[0mEC\u001b[0m\u001b[0;34m.\u001b[0m\u001b[0mpresence_of_all_elements_located\u001b[0m\u001b[0;34m(\u001b[0m\u001b[0;34m(\u001b[0m\u001b[0mBy\u001b[0m\u001b[0;34m.\u001b[0m\u001b[0mXPATH\u001b[0m\u001b[0;34m,\u001b[0m \u001b[0mcontainers_with_lyrics_id\u001b[0m\u001b[0;34m)\u001b[0m\u001b[0;34m)\u001b[0m\u001b[0;34m)\u001b[0m\u001b[0;34m\u001b[0m\u001b[0;34m\u001b[0m\u001b[0m\n\u001b[0m\u001b[1;32m     32\u001b[0m         \u001b[0mlyrics\u001b[0m \u001b[0;34m=\u001b[0m \u001b[0;34m''\u001b[0m\u001b[0;34m\u001b[0m\u001b[0;34m\u001b[0m\u001b[0m\n\u001b[1;32m     33\u001b[0m \u001b[0;34m\u001b[0m\u001b[0m\n",
      "\u001b[0;32m~/anaconda3/lib/python3.9/site-packages/selenium/webdriver/support/wait.py\u001b[0m in \u001b[0;36muntil\u001b[0;34m(self, method, message)\u001b[0m\n\u001b[1;32m     84\u001b[0m         \u001b[0;32mwhile\u001b[0m \u001b[0;32mTrue\u001b[0m\u001b[0;34m:\u001b[0m\u001b[0;34m\u001b[0m\u001b[0;34m\u001b[0m\u001b[0m\n\u001b[1;32m     85\u001b[0m             \u001b[0;32mtry\u001b[0m\u001b[0;34m:\u001b[0m\u001b[0;34m\u001b[0m\u001b[0;34m\u001b[0m\u001b[0m\n\u001b[0;32m---> 86\u001b[0;31m                 \u001b[0mvalue\u001b[0m \u001b[0;34m=\u001b[0m \u001b[0mmethod\u001b[0m\u001b[0;34m(\u001b[0m\u001b[0mself\u001b[0m\u001b[0;34m.\u001b[0m\u001b[0m_driver\u001b[0m\u001b[0;34m)\u001b[0m\u001b[0;34m\u001b[0m\u001b[0;34m\u001b[0m\u001b[0m\n\u001b[0m\u001b[1;32m     87\u001b[0m                 \u001b[0;32mif\u001b[0m \u001b[0mvalue\u001b[0m\u001b[0;34m:\u001b[0m\u001b[0;34m\u001b[0m\u001b[0;34m\u001b[0m\u001b[0m\n\u001b[1;32m     88\u001b[0m                     \u001b[0;32mreturn\u001b[0m \u001b[0mvalue\u001b[0m\u001b[0;34m\u001b[0m\u001b[0;34m\u001b[0m\u001b[0m\n",
      "\u001b[0;32m~/anaconda3/lib/python3.9/site-packages/selenium/webdriver/support/expected_conditions.py\u001b[0m in \u001b[0;36m_predicate\u001b[0;34m(driver)\u001b[0m\n\u001b[1;32m    172\u001b[0m \u001b[0;34m\u001b[0m\u001b[0m\n\u001b[1;32m    173\u001b[0m     \u001b[0;32mdef\u001b[0m \u001b[0m_predicate\u001b[0m\u001b[0;34m(\u001b[0m\u001b[0mdriver\u001b[0m\u001b[0;34m)\u001b[0m\u001b[0;34m:\u001b[0m\u001b[0;34m\u001b[0m\u001b[0;34m\u001b[0m\u001b[0m\n\u001b[0;32m--> 174\u001b[0;31m         \u001b[0;32mreturn\u001b[0m \u001b[0mdriver\u001b[0m\u001b[0;34m.\u001b[0m\u001b[0mfind_elements\u001b[0m\u001b[0;34m(\u001b[0m\u001b[0;34m*\u001b[0m\u001b[0mlocator\u001b[0m\u001b[0;34m)\u001b[0m\u001b[0;34m\u001b[0m\u001b[0;34m\u001b[0m\u001b[0m\n\u001b[0m\u001b[1;32m    175\u001b[0m \u001b[0;34m\u001b[0m\u001b[0m\n\u001b[1;32m    176\u001b[0m     \u001b[0;32mreturn\u001b[0m \u001b[0m_predicate\u001b[0m\u001b[0;34m\u001b[0m\u001b[0;34m\u001b[0m\u001b[0m\n",
      "\u001b[0;32m~/anaconda3/lib/python3.9/site-packages/selenium/webdriver/remote/webdriver.py\u001b[0m in \u001b[0;36mfind_elements\u001b[0;34m(self, by, value)\u001b[0m\n\u001b[1;32m    859\u001b[0m         \u001b[0;31m# Return empty list if driver returns null\u001b[0m\u001b[0;34m\u001b[0m\u001b[0;34m\u001b[0m\u001b[0m\n\u001b[1;32m    860\u001b[0m         \u001b[0;31m# See https://github.com/SeleniumHQ/selenium/issues/4555\u001b[0m\u001b[0;34m\u001b[0m\u001b[0;34m\u001b[0m\u001b[0m\n\u001b[0;32m--> 861\u001b[0;31m         \u001b[0;32mreturn\u001b[0m \u001b[0mself\u001b[0m\u001b[0;34m.\u001b[0m\u001b[0mexecute\u001b[0m\u001b[0;34m(\u001b[0m\u001b[0mCommand\u001b[0m\u001b[0;34m.\u001b[0m\u001b[0mFIND_ELEMENTS\u001b[0m\u001b[0;34m,\u001b[0m \u001b[0;34m{\u001b[0m\u001b[0;34m\"using\"\u001b[0m\u001b[0;34m:\u001b[0m \u001b[0mby\u001b[0m\u001b[0;34m,\u001b[0m \u001b[0;34m\"value\"\u001b[0m\u001b[0;34m:\u001b[0m \u001b[0mvalue\u001b[0m\u001b[0;34m}\u001b[0m\u001b[0;34m)\u001b[0m\u001b[0;34m[\u001b[0m\u001b[0;34m\"value\"\u001b[0m\u001b[0;34m]\u001b[0m \u001b[0;32mor\u001b[0m \u001b[0;34m[\u001b[0m\u001b[0;34m]\u001b[0m\u001b[0;34m\u001b[0m\u001b[0;34m\u001b[0m\u001b[0m\n\u001b[0m\u001b[1;32m    862\u001b[0m \u001b[0;34m\u001b[0m\u001b[0m\n\u001b[1;32m    863\u001b[0m     \u001b[0;34m@\u001b[0m\u001b[0mproperty\u001b[0m\u001b[0;34m\u001b[0m\u001b[0;34m\u001b[0m\u001b[0m\n",
      "\u001b[0;32m~/anaconda3/lib/python3.9/site-packages/selenium/webdriver/remote/webdriver.py\u001b[0m in \u001b[0;36mexecute\u001b[0;34m(self, driver_command, params)\u001b[0m\n\u001b[1;32m    438\u001b[0m         \u001b[0mresponse\u001b[0m \u001b[0;34m=\u001b[0m \u001b[0mself\u001b[0m\u001b[0;34m.\u001b[0m\u001b[0mcommand_executor\u001b[0m\u001b[0;34m.\u001b[0m\u001b[0mexecute\u001b[0m\u001b[0;34m(\u001b[0m\u001b[0mdriver_command\u001b[0m\u001b[0;34m,\u001b[0m \u001b[0mparams\u001b[0m\u001b[0;34m)\u001b[0m\u001b[0;34m\u001b[0m\u001b[0;34m\u001b[0m\u001b[0m\n\u001b[1;32m    439\u001b[0m         \u001b[0;32mif\u001b[0m \u001b[0mresponse\u001b[0m\u001b[0;34m:\u001b[0m\u001b[0;34m\u001b[0m\u001b[0;34m\u001b[0m\u001b[0m\n\u001b[0;32m--> 440\u001b[0;31m             \u001b[0mself\u001b[0m\u001b[0;34m.\u001b[0m\u001b[0merror_handler\u001b[0m\u001b[0;34m.\u001b[0m\u001b[0mcheck_response\u001b[0m\u001b[0;34m(\u001b[0m\u001b[0mresponse\u001b[0m\u001b[0;34m)\u001b[0m\u001b[0;34m\u001b[0m\u001b[0;34m\u001b[0m\u001b[0m\n\u001b[0m\u001b[1;32m    441\u001b[0m             \u001b[0mresponse\u001b[0m\u001b[0;34m[\u001b[0m\u001b[0;34m\"value\"\u001b[0m\u001b[0;34m]\u001b[0m \u001b[0;34m=\u001b[0m \u001b[0mself\u001b[0m\u001b[0;34m.\u001b[0m\u001b[0m_unwrap_value\u001b[0m\u001b[0;34m(\u001b[0m\u001b[0mresponse\u001b[0m\u001b[0;34m.\u001b[0m\u001b[0mget\u001b[0m\u001b[0;34m(\u001b[0m\u001b[0;34m\"value\"\u001b[0m\u001b[0;34m,\u001b[0m \u001b[0;32mNone\u001b[0m\u001b[0;34m)\u001b[0m\u001b[0;34m)\u001b[0m\u001b[0;34m\u001b[0m\u001b[0;34m\u001b[0m\u001b[0m\n\u001b[1;32m    442\u001b[0m             \u001b[0;32mreturn\u001b[0m \u001b[0mresponse\u001b[0m\u001b[0;34m\u001b[0m\u001b[0;34m\u001b[0m\u001b[0m\n",
      "\u001b[0;32m~/anaconda3/lib/python3.9/site-packages/selenium/webdriver/remote/errorhandler.py\u001b[0m in \u001b[0;36mcheck_response\u001b[0;34m(self, response)\u001b[0m\n\u001b[1;32m    243\u001b[0m                 \u001b[0malert_text\u001b[0m \u001b[0;34m=\u001b[0m \u001b[0mvalue\u001b[0m\u001b[0;34m[\u001b[0m\u001b[0;34m\"alert\"\u001b[0m\u001b[0;34m]\u001b[0m\u001b[0;34m.\u001b[0m\u001b[0mget\u001b[0m\u001b[0;34m(\u001b[0m\u001b[0;34m\"text\"\u001b[0m\u001b[0;34m)\u001b[0m\u001b[0;34m\u001b[0m\u001b[0;34m\u001b[0m\u001b[0m\n\u001b[1;32m    244\u001b[0m             \u001b[0;32mraise\u001b[0m \u001b[0mexception_class\u001b[0m\u001b[0;34m(\u001b[0m\u001b[0mmessage\u001b[0m\u001b[0;34m,\u001b[0m \u001b[0mscreen\u001b[0m\u001b[0;34m,\u001b[0m \u001b[0mstacktrace\u001b[0m\u001b[0;34m,\u001b[0m \u001b[0malert_text\u001b[0m\u001b[0;34m)\u001b[0m  \u001b[0;31m# type: ignore[call-arg]  # mypy is not smart enough here\u001b[0m\u001b[0;34m\u001b[0m\u001b[0;34m\u001b[0m\u001b[0m\n\u001b[0;32m--> 245\u001b[0;31m         \u001b[0;32mraise\u001b[0m \u001b[0mexception_class\u001b[0m\u001b[0;34m(\u001b[0m\u001b[0mmessage\u001b[0m\u001b[0;34m,\u001b[0m \u001b[0mscreen\u001b[0m\u001b[0;34m,\u001b[0m \u001b[0mstacktrace\u001b[0m\u001b[0;34m)\u001b[0m\u001b[0;34m\u001b[0m\u001b[0;34m\u001b[0m\u001b[0m\n\u001b[0m",
      "\u001b[0;31mNoSuchWindowException\u001b[0m: Message: no such window: target window already closed\nfrom unknown error: web view not found\n  (Session info: chrome=115.0.5790.110)\nStacktrace:\n#0 0x559ba5cc04e3 <unknown>\n#1 0x559ba59efc76 <unknown>\n#2 0x559ba59c9c6c <unknown>\n#3 0x559ba5a4ff8f <unknown>\n#4 0x559ba5a62d66 <unknown>\n#5 0x559ba5a4ade3 <unknown>\n#6 0x559ba5a202dd <unknown>\n#7 0x559ba5a2134e <unknown>\n#8 0x559ba5c803e4 <unknown>\n#9 0x559ba5c843d7 <unknown>\n#10 0x559ba5c8eb20 <unknown>\n#11 0x559ba5c85023 <unknown>\n#12 0x559ba5c531aa <unknown>\n#13 0x559ba5ca96b8 <unknown>\n#14 0x559ba5ca9847 <unknown>\n#15 0x559ba5cb9243 <unknown>\n#16 0x7fc009418609 start_thread\n"
     ]
    }
   ],
   "source": [
    "driver = webdriver.Chrome(service = service)\n",
    "web_driver_wait = WebDriverWait(driver, 30)\n",
    "\n",
    "for i in range (1, 50):\n",
    "    link = f'https://genius.com/tags/mpb/all?page={i}'\n",
    "    driver.get(link)\n",
    "    \n",
    "    # TODO\n",
    "    # Rodar a página para baixo até que o elemento de loading suma\n",
    "    \n",
    "    song_elements_id = '//span[@class=\"title_with_artists\"]'\n",
    "    song_elements = web_driver_wait.until(EC.presence_of_all_elements_located((By.XPATH, song_elements_id)))\n",
    "    \n",
    "    for j in range(len(song_elements)):\n",
    "        print(f'Página {i}, música número {j + 1}.')\n",
    "        song = song_elements[j]\n",
    "        parent = song.find_element(By.XPATH, '..')\n",
    "        song_title = song.find_element(By.CLASS_NAME, 'song_title').text\n",
    "    \n",
    "        artists_element = song.find_element(By.CLASS_NAME, 'artist_name')\n",
    "        artist_name = artists_element.find_element(By.CLASS_NAME, 'primary_artist_name').text\n",
    "        \n",
    "        featured_artist_name = ''\n",
    "        try:\n",
    "            featured_artist_name = artists_element.find_element(By.CLASS_NAME, 'featured_artist_name').text\n",
    "        except:\n",
    "            pass\n",
    "        \n",
    "        lyrics_link = parent.get_attribute('href')\n",
    "        driver.execute_script(f'window.open(\"{lyrics_link}\",\"_blank\");')\n",
    "        driver.switch_to.window(driver.window_handles[1])\n",
    "        \n",
    "        containers_with_lyrics_id = '//div[@data-lyrics-container=\"true\"]'\n",
    "        containers_with_lyrics = web_driver_wait.until(EC.presence_of_all_elements_located((By.XPATH, containers_with_lyrics_id)))\n",
    "        lyrics = ''\n",
    "        \n",
    "        for container in containers_with_lyrics:\n",
    "            current_lyrics = container.text\n",
    "            lyrics += current_lyrics\n",
    "        \n",
    "        # TODO\n",
    "        # Pegar a data de lançamento\n",
    "        # Pegar a duração da música\n",
    "        # Pegar o nome do álbum\n",
    "        \n",
    "        driver.close()\n",
    "        driver.switch_to.window(driver.window_handles[0])"
   ]
  }
 ],
 "metadata": {
  "kernelspec": {
   "display_name": "Python 3 (ipykernel)",
   "language": "python",
   "name": "python3"
  },
  "language_info": {
   "codemirror_mode": {
    "name": "ipython",
    "version": 3
   },
   "file_extension": ".py",
   "mimetype": "text/x-python",
   "name": "python",
   "nbconvert_exporter": "python",
   "pygments_lexer": "ipython3",
   "version": "3.9.13"
  }
 },
 "nbformat": 4,
 "nbformat_minor": 5
}
