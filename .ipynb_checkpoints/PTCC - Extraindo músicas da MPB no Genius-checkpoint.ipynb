{
 "cells": [
  {
   "cell_type": "markdown",
   "id": "6496ed56",
   "metadata": {},
   "source": [
    "### Pegando as músicas de cada artista da MPB"
   ]
  },
  {
   "cell_type": "code",
   "execution_count": 5,
   "id": "8c14cf67",
   "metadata": {},
   "outputs": [],
   "source": [
    "import csv\n",
    "import os\n",
    "import pandas as pd\n",
    "import platform\n",
    "import selenium\n",
    "import pickle\n",
    "import time\n",
    "\n",
    "from selenium import webdriver\n",
    "from selenium.webdriver.common.by import By\n",
    "from selenium.webdriver.support import expected_conditions as EC\n",
    "from selenium.webdriver.chrome.service import Service\n",
    "from selenium.webdriver.support.wait import WebDriverWait\n",
    "from webdriver_manager.chrome import ChromeDriverManager"
   ]
  },
  {
   "cell_type": "code",
   "execution_count": 8,
   "id": "c3b6ab28",
   "metadata": {},
   "outputs": [
    {
     "name": "stdout",
     "output_type": "stream",
     "text": [
      "0\n"
     ]
    }
   ],
   "source": [
    "dicionario_musicas = {'indice_musica': [],\n",
    "                     'titulo_musica': [],\n",
    "                     'nome_artista': [],\n",
    "                     'artistas_participacao': [],\n",
    "                     'letra': [],\n",
    "                     'album': [],\n",
    "                     'data_lancamento': [],\n",
    "                     'tags': [],\n",
    "                     'identificador' : []}\n",
    "\n",
    "musicas_df = pd.DataFrame.from_dict(dicionario_musicas)\n",
    "nome_arquivo_musicas = 'musicas.csv'\n",
    "indice_musica = 0\n",
    "if os.path.isfile(nome_arquivo_musicas):\n",
    "    musicas_df = pd.read_csv(nome_arquivo_musicas)\n",
    "    if len(musicas_df) > 0:\n",
    "        indice_musica = musicas_df['indice_musica'][-1]\n",
    "else:\n",
    "    musicas_df.to_csv(nome_arquivo_musicas, index=False)\n",
    "\n",
    "print(indice_musica)"
   ]
  },
  {
   "cell_type": "code",
   "execution_count": 9,
   "id": "efaa51cb",
   "metadata": {},
   "outputs": [],
   "source": [
    "sistema_operacional = platform.system()\n",
    "\n",
    "if sistema_operacional == 'Linux':\n",
    "    caminho_webdriver = os.path.join('chromedriver_linux64', 'chromedriver')\n",
    "elif sistema_operacional == 'Windows':\n",
    "    caminho_webdriver = os.path.join('chromedriver_win32', 'chromedriver.exe')\n",
    "\n",
    "servico = Service(executable_path=caminho_webdriver)"
   ]
  },
  {
   "cell_type": "code",
   "execution_count": 10,
   "id": "f43bb512",
   "metadata": {
    "scrolled": false
   },
   "outputs": [
    {
     "ename": "NameError",
     "evalue": "name 'artistas_participacao' is not defined",
     "output_type": "error",
     "traceback": [
      "\u001b[1;31m---------------------------------------------------------------------------\u001b[0m",
      "\u001b[1;31mNameError\u001b[0m                                 Traceback (most recent call last)",
      "\u001b[1;32m~\\AppData\\Local\\Temp\\ipykernel_6608\\5462105.py\u001b[0m in \u001b[0;36m<module>\u001b[1;34m\u001b[0m\n\u001b[0;32m     71\u001b[0m             \u001b[0mprint\u001b[0m\u001b[1;33m(\u001b[0m\u001b[1;34mf'Erro nas tags: {str(e)}'\u001b[0m\u001b[1;33m)\u001b[0m\u001b[1;33m\u001b[0m\u001b[1;33m\u001b[0m\u001b[0m\n\u001b[0;32m     72\u001b[0m \u001b[1;33m\u001b[0m\u001b[0m\n\u001b[1;32m---> 73\u001b[1;33m         \u001b[0mnova_linha\u001b[0m \u001b[1;33m=\u001b[0m \u001b[1;33m[\u001b[0m\u001b[0mj\u001b[0m\u001b[1;33m,\u001b[0m \u001b[0mtitulo_musica\u001b[0m\u001b[1;33m,\u001b[0m \u001b[0mnome_artista\u001b[0m\u001b[1;33m,\u001b[0m \u001b[0martistas_participacao\u001b[0m\u001b[1;33m,\u001b[0m \u001b[0mletra\u001b[0m\u001b[1;33m,\u001b[0m \u001b[0malbum\u001b[0m\u001b[1;33m,\u001b[0m \u001b[0mdata_lancamento\u001b[0m\u001b[1;33m,\u001b[0m \u001b[0mtags\u001b[0m\u001b[1;33m,\u001b[0m \u001b[0midentificador\u001b[0m\u001b[1;33m]\u001b[0m\u001b[1;33m\u001b[0m\u001b[1;33m\u001b[0m\u001b[0m\n\u001b[0m\u001b[0;32m     74\u001b[0m         \u001b[0mdf_nova_linha\u001b[0m \u001b[1;33m=\u001b[0m \u001b[0mpd\u001b[0m\u001b[1;33m.\u001b[0m\u001b[0mDataFrame\u001b[0m\u001b[1;33m(\u001b[0m\u001b[1;33m[\u001b[0m\u001b[0mnova_linha\u001b[0m\u001b[1;33m]\u001b[0m\u001b[1;33m)\u001b[0m\u001b[1;33m\u001b[0m\u001b[1;33m\u001b[0m\u001b[0m\n\u001b[0;32m     75\u001b[0m         \u001b[0mdf_nova_linha\u001b[0m\u001b[1;33m.\u001b[0m\u001b[0mto_csv\u001b[0m\u001b[1;33m(\u001b[0m\u001b[0mnome_arquivo_musicas\u001b[0m\u001b[1;33m,\u001b[0m \u001b[0mmode\u001b[0m\u001b[1;33m=\u001b[0m\u001b[1;34m'a'\u001b[0m\u001b[1;33m,\u001b[0m \u001b[0mheader\u001b[0m\u001b[1;33m=\u001b[0m\u001b[1;32mFalse\u001b[0m\u001b[1;33m,\u001b[0m \u001b[0mindex\u001b[0m\u001b[1;33m=\u001b[0m\u001b[1;32mFalse\u001b[0m\u001b[1;33m)\u001b[0m\u001b[1;33m\u001b[0m\u001b[1;33m\u001b[0m\u001b[0m\n",
      "\u001b[1;31mNameError\u001b[0m: name 'artistas_participacao' is not defined"
     ]
    }
   ],
   "source": [
    "opcoes = webdriver.ChromeOptions()\n",
    "navegador = webdriver.Chrome(service=servico, options = opcoes)\n",
    "espera_navegador = WebDriverWait(navegador, 20)\n",
    "identificadores = list(musicas_df['identificador'])\n",
    "\n",
    "pagina_musicas_mpb = 'https://genius.com/tags/mpb/all?page=1'\n",
    "navegador.get(pagina_musicas_mpb)\n",
    "\n",
    "while True:\n",
    "    navegador.execute_script(\"window.scrollTo(0, document.body.scrollHeight);\")\n",
    "    time.sleep(1)\n",
    "    if not (len(navegador.find_elements(By.XPATH, \"//a[contains(text(), 'more')]\"))) > 0:\n",
    "        break\n",
    "\n",
    "elementos_musica_id = '//span[@class=\"title_with_artists\"]'\n",
    "elementos_musica = espera_navegador.until(EC.presence_of_all_elements_located((By.XPATH, elementos_musica_id)))\n",
    "\n",
    "for j in range(indice_musica, len(elementos_musica)):\n",
    "    musica = elementos_musica[j]\n",
    "    elemento_pai = musica.find_element(By.XPATH, '..')\n",
    "    titulo_musica = musica.find_element(By.CLASS_NAME, 'song_title').get_attribute(\"innerText\")\n",
    "\n",
    "    elemento_artistas = musica.find_element(By.CLASS_NAME, 'artist_name')\n",
    "    nome_artista = elemento_artistas.find_element(By.CLASS_NAME, 'primary_artist_name').get_attribute(\"innerText\")\n",
    "\n",
    "    identificador = f'{titulo_musica} {nome_artista}'\n",
    "\n",
    "    if identificador not in identificadores: \n",
    "        lista_artistas_destacados = []\n",
    "        try:\n",
    "            nomes_artistas_destacados = elemento_artistas.find_elements(By.CLASS_NAME, 'featured_artist_name')\n",
    "            for nome_artista_destacado in nomes_artistas_destacados:\n",
    "                lista_artistas_destacados.append(nome_artista_destacado.get_attribute(\"innerText\"))\n",
    "        except Exception as e:\n",
    "            print(f'Erro de artistas destacados: {str(e)}')\n",
    "            \n",
    "        link_letra = elemento_pai.get_attribute('href')\n",
    "        navegador.execute_script(f'window.open(\"{link_letra}\",\"_blank\");')\n",
    "        navegador.switch_to.window(navegador.window_handles[1])\n",
    "\n",
    "        letra = ''\n",
    "        try:\n",
    "            identificador_containers_letra_id = '//div[@data-lyrics-container=\"true\"]'\n",
    "            containers_letra = espera_navegador.until(EC.presence_of_all_elements_located((By.XPATH, identificador_containers_letra_id)))\n",
    "            for container in containers_letra:\n",
    "                letra_atual = container.get_attribute(\"innerText\")\n",
    "                letra += letra_atual\n",
    "        except Exception as e:\n",
    "            print(f'Erro na letra: {str(e)}')\n",
    "\n",
    "        album = ''\n",
    "        try:\n",
    "            album = navegador.find_element(By.XPATH, \"//a[contains(@class, 'PrimaryAlbum')]\").get_attribute(\"innerText\")\n",
    "        except Exception as e:\n",
    "            print(f'Erro no nome do álbum: {str(e)}')\n",
    "\n",
    "        data_lancamento = ''\n",
    "        try:\n",
    "            identificador_data_lancamento = \"//span[contains(@class, 'MetadataStats')]\"\n",
    "            elementos_data_lancamento = navegador.find_elements(By.XPATH, identificador_data_lancamento)\n",
    "            data_lancamento = elementos_data_lancamento[0].get_attribute(\"innerText\")\n",
    "        except Exception as e:\n",
    "            print(f'Erro na data de lançamento: {str(e)}')\n",
    "\n",
    "        tags = ''\n",
    "        try:\n",
    "            identificador_tags = \"//a[contains(@class, 'SongTags__Tag')]\"\n",
    "            elementos_tags = navegador.find_elements(By.XPATH, identificador_tags)\n",
    "            tags = ','.join([tag.get_attribute(\"innerText\") for tag in elementos_tags])\n",
    "        except Exception as e:\n",
    "            print(f'Erro nas tags: {str(e)}')\n",
    "\n",
    "        nova_linha = [j, titulo_musica, nome_artista, lista_artistas_destacados, letra, album, data_lancamento, tags, identificador]\n",
    "        df_nova_linha = pd.DataFrame([nova_linha])\n",
    "        df_nova_linha.to_csv(nome_arquivo_musicas, mode='a', header=False, index=False)\n",
    "        identificadores.append(identificador)\n",
    "        navegador.close()\n",
    "        navegador.switch_to.window(navegador.window_handles[0])"
   ]
  }
 ],
 "metadata": {
  "kernelspec": {
   "display_name": "Python 3 (ipykernel)",
   "language": "python",
   "name": "python3"
  },
  "language_info": {
   "codemirror_mode": {
    "name": "ipython",
    "version": 3
   },
   "file_extension": ".py",
   "mimetype": "text/x-python",
   "name": "python",
   "nbconvert_exporter": "python",
   "pygments_lexer": "ipython3",
   "version": "3.9.13"
  }
 },
 "nbformat": 4,
 "nbformat_minor": 5
}
