{
 "cells": [
  {
   "cell_type": "code",
   "execution_count": 50,
   "id": "0398e791",
   "metadata": {},
   "outputs": [],
   "source": [
    "import os\n",
    "import pandas as pd\n",
    "import platform\n",
    "import selenium\n",
    "import pickle\n",
    "\n",
    "from selenium import webdriver\n",
    "from selenium.webdriver.common.by import By\n",
    "from selenium.webdriver.support import expected_conditions as EC\n",
    "from selenium.webdriver.chrome.service import Service\n",
    "from selenium.webdriver.support.wait import WebDriverWait\n",
    "from webdriver_manager.chrome import ChromeDriverManager"
   ]
  },
  {
   "cell_type": "code",
   "execution_count": 51,
   "id": "fdd07e6a",
   "metadata": {},
   "outputs": [],
   "source": [
    "operating_system = platform.system()\n",
    "\n",
    "if operating_system == 'Linux':\n",
    "    webdriver_path = os.path.join('chromedriver_linux64', 'chromedriver')\n",
    "elif operating_system == 'Windows':\n",
    "    webdriver_path = os.path.join('chromedriver_win32', 'chromedriver.exe')\n",
    "\n",
    "service = Service(executable_path = webdriver_path)"
   ]
  },
  {
   "cell_type": "code",
   "execution_count": 52,
   "id": "538b0606",
   "metadata": {},
   "outputs": [],
   "source": [
    "def get_artists_names(elements):\n",
    "    artists_names = []\n",
    "    \n",
    "    for element in elements:\n",
    "        artists_names.append(element.text.strip())\n",
    "    \n",
    "    return artists_names"
   ]
  },
  {
   "cell_type": "code",
   "execution_count": 53,
   "id": "8467c790",
   "metadata": {},
   "outputs": [],
   "source": [
    "# Para salvar o index \n",
    "\n",
    "arquivo_numero = \"numero.txt\"\n",
    "\n",
    "def salvar_numero(numero):\n",
    "    with open(arquivo_numero, \"w\") as arquivo:\n",
    "        arquivo.write(str(numero))\n",
    "\n",
    "def carregar_numero():\n",
    "    try:\n",
    "        with open(arquivo_numero, \"r\") as arquivo:\n",
    "            return int(arquivo.read())\n",
    "    except FileNotFoundError:\n",
    "        return None  "
   ]
  },
  {
   "cell_type": "code",
   "execution_count": 55,
   "id": "e480335e",
   "metadata": {},
   "outputs": [],
   "source": [
    "# Para salvar a lista com nomes dos artistas\n",
    "\n",
    "arquivo_lista = \"artists_names.pkl\"\n",
    "\n",
    "def salvar_lista(lista):\n",
    "    with open(arquivo_lista, \"wb\") as arquivo:\n",
    "        pickle.dump(lista, arquivo)\n",
    "\n",
    "def carregar_lista():\n",
    "    try:\n",
    "        with open(arquivo_lista, \"rb\") as arquivo:\n",
    "            return pickle.load(arquivo)\n",
    "    except FileNotFoundError:\n",
    "        return None"
   ]
  },
  {
   "cell_type": "code",
   "execution_count": 56,
   "id": "e820559f",
   "metadata": {},
   "outputs": [],
   "source": [
    "driver = webdriver.Chrome(service = service)\n",
    "web_driver_wait = WebDriverWait(driver, 30)"
   ]
  },
  {
   "cell_type": "code",
   "execution_count": 74,
   "id": "fccd9394",
   "metadata": {
    "scrolled": true
   },
   "outputs": [],
   "source": [
    "artists_names = carregar_lista()\n",
    "index_inicial = carregar_numero()\n",
    "\n",
    "for i in range (index_inicial, 478):\n",
    "    link = f'https://www.last.fm/tag/brazilian/artists?page={i}'\n",
    "    driver.get(link)\n",
    "    \n",
    "    artist_name_identifier = 'big-artist-list-title'\n",
    "    elements = web_driver_wait.until(EC.presence_of_all_elements_located((By.CLASS_NAME, artist_name_identifier)))\n",
    "    current_artists_names = get_artists_names(elements)\n",
    "    artists_names += current_artists_names\n",
    "    \n",
    "    salvar_lista(artists_names)\n",
    "    salvar_numero(i + 1)"
   ]
  },
  {
   "cell_type": "code",
   "execution_count": 79,
   "id": "b16dab69",
   "metadata": {},
   "outputs": [],
   "source": [
    "dict_ = {'artist': artists_names}\n",
    "df = pd.DataFrame.from_dict(dict_)\n",
    "df.to_csv('artists_names.csv')"
   ]
  }
 ],
 "metadata": {
  "kernelspec": {
   "display_name": "Python 3 (ipykernel)",
   "language": "python",
   "name": "python3"
  },
  "language_info": {
   "codemirror_mode": {
    "name": "ipython",
    "version": 3
   },
   "file_extension": ".py",
   "mimetype": "text/x-python",
   "name": "python",
   "nbconvert_exporter": "python",
   "pygments_lexer": "ipython3",
   "version": "3.9.13"
  }
 },
 "nbformat": 4,
 "nbformat_minor": 5
}
